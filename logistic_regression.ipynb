{
 "cells": [
  {
   "cell_type": "markdown",
   "metadata": {},
   "source": [
    "<div class=\"alert alert-block alert-warning\">\n",
    "\n",
    "# Linear Regression Exercises\n",
    "\n",
    "In these exercises, we'll continue working with the titanic dataset and building logistic regression models. Throughout this exercise, be sure you are training, evaluation, and comparing models on the train and validate datasets. The test dataset should only be used for your final model.\n",
    "\n",
    "For all of the models you create, choose a threshold that optimizes for accuracy.\n",
    "\n",
    "Create a new notebook, logistic_regression, use it to answer the following questions:"
   ]
  },
  {
   "cell_type": "code",
   "execution_count": 1,
   "metadata": {},
   "outputs": [],
   "source": [
    "# Imports\n",
    "import numpy as np\n",
    "import pandas as pd\n",
    "import matplotlib.pyplot as plt\n",
    "\n",
    "from sklearn.metrics import classification_report, confusion_matrix\n",
    "from sklearn.linear_model import LogisticRegression\n",
    "\n",
    "from acquire import new_titanic_data\n",
    "from prepare import prep_titanic, split_data\n",
    "\n",
    "import warnings\n",
    "warnings.filterwarnings(\"ignore\")"
   ]
  },
  {
   "cell_type": "markdown",
   "metadata": {},
   "source": [
    "#### Acquire "
   ]
  },
  {
   "cell_type": "code",
   "execution_count": 2,
   "metadata": {},
   "outputs": [
    {
     "data": {
      "text/html": [
       "<div>\n",
       "<style scoped>\n",
       "    .dataframe tbody tr th:only-of-type {\n",
       "        vertical-align: middle;\n",
       "    }\n",
       "\n",
       "    .dataframe tbody tr th {\n",
       "        vertical-align: top;\n",
       "    }\n",
       "\n",
       "    .dataframe thead th {\n",
       "        text-align: right;\n",
       "    }\n",
       "</style>\n",
       "<table border=\"1\" class=\"dataframe\">\n",
       "  <thead>\n",
       "    <tr style=\"text-align: right;\">\n",
       "      <th></th>\n",
       "      <th>survived</th>\n",
       "      <th>pclass</th>\n",
       "      <th>sex</th>\n",
       "      <th>age</th>\n",
       "      <th>sibsp</th>\n",
       "      <th>parch</th>\n",
       "      <th>fare</th>\n",
       "      <th>embark_town</th>\n",
       "      <th>alone</th>\n",
       "    </tr>\n",
       "  </thead>\n",
       "  <tbody>\n",
       "    <tr>\n",
       "      <th>0</th>\n",
       "      <td>0</td>\n",
       "      <td>3</td>\n",
       "      <td>male</td>\n",
       "      <td>22.0</td>\n",
       "      <td>1</td>\n",
       "      <td>0</td>\n",
       "      <td>7.2500</td>\n",
       "      <td>Southampton</td>\n",
       "      <td>0</td>\n",
       "    </tr>\n",
       "    <tr>\n",
       "      <th>1</th>\n",
       "      <td>1</td>\n",
       "      <td>1</td>\n",
       "      <td>female</td>\n",
       "      <td>38.0</td>\n",
       "      <td>1</td>\n",
       "      <td>0</td>\n",
       "      <td>71.2833</td>\n",
       "      <td>Cherbourg</td>\n",
       "      <td>0</td>\n",
       "    </tr>\n",
       "    <tr>\n",
       "      <th>2</th>\n",
       "      <td>1</td>\n",
       "      <td>3</td>\n",
       "      <td>female</td>\n",
       "      <td>26.0</td>\n",
       "      <td>0</td>\n",
       "      <td>0</td>\n",
       "      <td>7.9250</td>\n",
       "      <td>Southampton</td>\n",
       "      <td>1</td>\n",
       "    </tr>\n",
       "    <tr>\n",
       "      <th>3</th>\n",
       "      <td>1</td>\n",
       "      <td>1</td>\n",
       "      <td>female</td>\n",
       "      <td>35.0</td>\n",
       "      <td>1</td>\n",
       "      <td>0</td>\n",
       "      <td>53.1000</td>\n",
       "      <td>Southampton</td>\n",
       "      <td>0</td>\n",
       "    </tr>\n",
       "    <tr>\n",
       "      <th>4</th>\n",
       "      <td>0</td>\n",
       "      <td>3</td>\n",
       "      <td>male</td>\n",
       "      <td>35.0</td>\n",
       "      <td>0</td>\n",
       "      <td>0</td>\n",
       "      <td>8.0500</td>\n",
       "      <td>Southampton</td>\n",
       "      <td>1</td>\n",
       "    </tr>\n",
       "  </tbody>\n",
       "</table>\n",
       "</div>"
      ],
      "text/plain": [
       "   survived  pclass     sex   age  sibsp  parch     fare  embark_town  alone\n",
       "0         0       3    male  22.0      1      0   7.2500  Southampton      0\n",
       "1         1       1  female  38.0      1      0  71.2833    Cherbourg      0\n",
       "2         1       3  female  26.0      0      0   7.9250  Southampton      1\n",
       "3         1       1  female  35.0      1      0  53.1000  Southampton      0\n",
       "4         0       3    male  35.0      0      0   8.0500  Southampton      1"
      ]
     },
     "execution_count": 2,
     "metadata": {},
     "output_type": "execute_result"
    }
   ],
   "source": [
    "# Acquire data\n",
    "titanic = prep_titanic(new_titanic_data())\n",
    "titanic.head()"
   ]
  },
  {
   "cell_type": "code",
   "execution_count": 3,
   "metadata": {},
   "outputs": [],
   "source": [
    "titanic['sex'] = titanic.sex.map({'male': 1, 'female': 0})\n",
    "titanic['embark_town'] = titanic.embark_town.map({'Southampton': 0, 'Queenstown': 1, 'Cherbourg': 2})\n",
    "titanic['age'] = titanic.age.astype(int)"
   ]
  },
  {
   "cell_type": "code",
   "execution_count": 4,
   "metadata": {},
   "outputs": [
    {
     "data": {
      "text/html": [
       "<div>\n",
       "<style scoped>\n",
       "    .dataframe tbody tr th:only-of-type {\n",
       "        vertical-align: middle;\n",
       "    }\n",
       "\n",
       "    .dataframe tbody tr th {\n",
       "        vertical-align: top;\n",
       "    }\n",
       "\n",
       "    .dataframe thead th {\n",
       "        text-align: right;\n",
       "    }\n",
       "</style>\n",
       "<table border=\"1\" class=\"dataframe\">\n",
       "  <thead>\n",
       "    <tr style=\"text-align: right;\">\n",
       "      <th></th>\n",
       "      <th>survived</th>\n",
       "      <th>pclass</th>\n",
       "      <th>sex</th>\n",
       "      <th>age</th>\n",
       "      <th>sibsp</th>\n",
       "      <th>parch</th>\n",
       "      <th>fare</th>\n",
       "      <th>embark_town</th>\n",
       "      <th>alone</th>\n",
       "    </tr>\n",
       "  </thead>\n",
       "  <tbody>\n",
       "    <tr>\n",
       "      <th>0</th>\n",
       "      <td>0</td>\n",
       "      <td>3</td>\n",
       "      <td>1</td>\n",
       "      <td>22</td>\n",
       "      <td>1</td>\n",
       "      <td>0</td>\n",
       "      <td>7.2500</td>\n",
       "      <td>0</td>\n",
       "      <td>0</td>\n",
       "    </tr>\n",
       "    <tr>\n",
       "      <th>1</th>\n",
       "      <td>1</td>\n",
       "      <td>1</td>\n",
       "      <td>0</td>\n",
       "      <td>38</td>\n",
       "      <td>1</td>\n",
       "      <td>0</td>\n",
       "      <td>71.2833</td>\n",
       "      <td>2</td>\n",
       "      <td>0</td>\n",
       "    </tr>\n",
       "    <tr>\n",
       "      <th>2</th>\n",
       "      <td>1</td>\n",
       "      <td>3</td>\n",
       "      <td>0</td>\n",
       "      <td>26</td>\n",
       "      <td>0</td>\n",
       "      <td>0</td>\n",
       "      <td>7.9250</td>\n",
       "      <td>0</td>\n",
       "      <td>1</td>\n",
       "    </tr>\n",
       "    <tr>\n",
       "      <th>3</th>\n",
       "      <td>1</td>\n",
       "      <td>1</td>\n",
       "      <td>0</td>\n",
       "      <td>35</td>\n",
       "      <td>1</td>\n",
       "      <td>0</td>\n",
       "      <td>53.1000</td>\n",
       "      <td>0</td>\n",
       "      <td>0</td>\n",
       "    </tr>\n",
       "    <tr>\n",
       "      <th>4</th>\n",
       "      <td>0</td>\n",
       "      <td>3</td>\n",
       "      <td>1</td>\n",
       "      <td>35</td>\n",
       "      <td>0</td>\n",
       "      <td>0</td>\n",
       "      <td>8.0500</td>\n",
       "      <td>0</td>\n",
       "      <td>1</td>\n",
       "    </tr>\n",
       "  </tbody>\n",
       "</table>\n",
       "</div>"
      ],
      "text/plain": [
       "   survived  pclass  sex  age  sibsp  parch     fare  embark_town  alone\n",
       "0         0       3    1   22      1      0   7.2500            0      0\n",
       "1         1       1    0   38      1      0  71.2833            2      0\n",
       "2         1       3    0   26      0      0   7.9250            0      1\n",
       "3         1       1    0   35      1      0  53.1000            0      0\n",
       "4         0       3    1   35      0      0   8.0500            0      1"
      ]
     },
     "execution_count": 4,
     "metadata": {},
     "output_type": "execute_result"
    }
   ],
   "source": [
    "# take a look\n",
    "titanic.head()"
   ]
  },
  {
   "cell_type": "markdown",
   "metadata": {},
   "source": [
    "#### Prepare"
   ]
  },
  {
   "cell_type": "code",
   "execution_count": 5,
   "metadata": {},
   "outputs": [],
   "source": [
    "# Train, validate, split data\n",
    "train, validate, test = split_data(titanic, 'survived')"
   ]
  },
  {
   "cell_type": "markdown",
   "metadata": {},
   "source": [
    "#### Isolate the target variable"
   ]
  },
  {
   "cell_type": "code",
   "execution_count": 6,
   "metadata": {},
   "outputs": [],
   "source": [
    "# we know what our X and y are, let's be explicit about defining them\n",
    "X_train = train.drop(columns='survived')\n",
    "y_train = train.survived\n",
    "\n",
    "X_val = validate.drop(columns='survived')\n",
    "y_val = validate.survived\n",
    "\n",
    "X_test = test.drop(columns='survived')\n",
    "y_test = test.survived"
   ]
  },
  {
   "cell_type": "markdown",
   "metadata": {},
   "source": [
    "#### Create the baseline"
   ]
  },
  {
   "cell_type": "code",
   "execution_count": 7,
   "metadata": {},
   "outputs": [],
   "source": [
    "# write a function to compute the baseline for a classification model\n",
    "def establish_baseline(y_train):\n",
    "    #  establish the value we will predict for all observations\n",
    "    baseline_prediction = y_train.mode()\n",
    "\n",
    "    # create a series of predictions with that value, \n",
    "    # the same length as our training set\n",
    "    y_train_pred = pd.Series([0]*len(y_train))\n",
    "\n",
    "    # compute accuracy of baseline\n",
    "    cm = confusion_matrix(y_train, y_train_pred)\n",
    "    tn, fp, fn, tp = cm.ravel()\n",
    "\n",
    "    accuracy = (tp+tn)/(tn+fp+fn+tp)\n",
    "    return accuracy"
   ]
  },
  {
   "cell_type": "code",
   "execution_count": 8,
   "metadata": {},
   "outputs": [],
   "source": [
    "baseline_accuracy = establish_baseline(y_train)"
   ]
  },
  {
   "cell_type": "markdown",
   "metadata": {},
   "source": [
    "<div class=\"alert alert-block alert-success\">\n",
    "\n",
    "1. Create a model that includes only age, fare, and pclass. Does this model perform better than your baseline?"
   ]
  },
  {
   "cell_type": "code",
   "execution_count": 9,
   "metadata": {},
   "outputs": [
    {
     "name": "stdout",
     "output_type": "stream",
     "text": [
      "Train Accuracy: 0.6867469879518072\n",
      "Baseline Accuracy: 0.5943775100401606\n"
     ]
    }
   ],
   "source": [
    "# create algorithm object\n",
    "logit1 = LogisticRegression(C=1, random_state=42, intercept_scaling=1, solver='liblinear')\n",
    "\n",
    "# fit model with age, pclass and fare as only features\n",
    "logit1.fit(X_train[['age', 'pclass', 'fare']], y_train)\n",
    "\n",
    "# compute accuracy\n",
    "train_accuracy = logit1.score(X_train[['age', 'pclass', 'fare']], y_train)\n",
    "\n",
    "# compare this model with baseline\n",
    "print(f'Train Accuracy: {train_accuracy}')\n",
    "print(f'Baseline Accuracy: {baseline_accuracy}')"
   ]
  },
  {
   "cell_type": "markdown",
   "metadata": {},
   "source": [
    "<div class=\"alert alert-block alert-success\">\n",
    "\n",
    "2. Include sex in your model as well. Note that you'll need to encode or create a dummy variable of this feature before including it in a model."
   ]
  },
  {
   "cell_type": "code",
   "execution_count": 10,
   "metadata": {},
   "outputs": [
    {
     "name": "stdout",
     "output_type": "stream",
     "text": [
      "Train Accuracy: 0.7871485943775101\n",
      "Baseline Accuracy: 0.5943775100401606\n"
     ]
    }
   ],
   "source": [
    "# Did not utilize dummy data - instead mapped values to 'sex' feature\n",
    "\n",
    "# create algorithm object\n",
    "logit2 = LogisticRegression(C=1, random_state=42, intercept_scaling=1, solver='liblinear')\n",
    "\n",
    "# fit model with age, pclass, fare and sex_male as only features\n",
    "logit2.fit(X_train[['age', 'pclass', 'fare', 'sex']], y_train)\n",
    "\n",
    "# compute accuracy\n",
    "train_accuracy = logit2.score(X_train[['age', 'pclass', 'fare', 'sex']], y_train)\n",
    "\n",
    "# compare this model with baseline\n",
    "print(f'Train Accuracy: {train_accuracy}')\n",
    "print(f'Baseline Accuracy: {baseline_accuracy}')"
   ]
  },
  {
   "cell_type": "markdown",
   "metadata": {},
   "source": [
    "<div class=\"alert alert-block alert-success\">\n",
    "\n",
    "3. Try out other combinations of features and models."
   ]
  },
  {
   "cell_type": "code",
   "execution_count": 11,
   "metadata": {},
   "outputs": [
    {
     "name": "stdout",
     "output_type": "stream",
     "text": [
      "Train Accuracy: 0.8112449799196787\n",
      "Baseline Accuracy: 0.5943775100401606\n"
     ]
    }
   ],
   "source": [
    "# Test model with all features\n",
    "\n",
    "# create algorithm object\n",
    "logit3 = LogisticRegression(C=1, random_state=42, intercept_scaling=1, solver='liblinear')\n",
    "\n",
    "# fit model with all features\n",
    "logit3.fit(X_train, y_train)\n",
    "\n",
    "# compute accuracy\n",
    "train_accuracy = logit3.score(X_train, y_train)\n",
    "\n",
    "# compare this model with baseline\n",
    "print(f'Train Accuracy: {train_accuracy}')\n",
    "print(f'Baseline Accuracy: {baseline_accuracy}')"
   ]
  },
  {
   "cell_type": "code",
   "execution_count": 12,
   "metadata": {},
   "outputs": [
    {
     "name": "stdout",
     "output_type": "stream",
     "text": [
      "Train Accuracy: 0.7911646586345381\n",
      "Baseline Accuracy: 0.5943775100401606\n"
     ]
    }
   ],
   "source": [
    "# Try changing 'solver' to 'lbfgs' feature\n",
    "\n",
    "# create algorithm object\n",
    "logit4 = LogisticRegression(C=1, random_state=42, intercept_scaling=1, solver='lbfgs')\n",
    "\n",
    "# fit model with all features\n",
    "logit4.fit(X_train, y_train)\n",
    "\n",
    "# compute accuracy\n",
    "train_acc4 = logit4.score(X_train, y_train)\n",
    "\n",
    "# compare this model with baseline\n",
    "print(f'Train Accuracy: {train_acc4}')\n",
    "print(f'Baseline Accuracy: {baseline_accuracy}')"
   ]
  },
  {
   "cell_type": "code",
   "execution_count": 13,
   "metadata": {},
   "outputs": [
    {
     "name": "stdout",
     "output_type": "stream",
     "text": [
      "Train Accuracy: 0.7991967871485943\n",
      "Baseline Accuracy: 0.5943775100401606\n"
     ]
    }
   ],
   "source": [
    "# Try changing 'class_weight' to 'balanced'\n",
    "\n",
    "# create algorithm object\n",
    "logit5 = LogisticRegression(C=1, class_weight='balanced', random_state=42, intercept_scaling=1, solver='lbfgs')\n",
    "\n",
    "# fit model with all features\n",
    "logit5.fit(X_train, y_train)\n",
    "\n",
    "# compute accuracy\n",
    "train_acc5 = logit5.score(X_train, y_train)\n",
    "\n",
    "# compare this model with baseline\n",
    "print(f'Train Accuracy: {train_acc5}')\n",
    "print(f'Baseline Accuracy: {baseline_accuracy}')"
   ]
  },
  {
   "cell_type": "code",
   "execution_count": 14,
   "metadata": {},
   "outputs": [
    {
     "name": "stdout",
     "output_type": "stream",
     "text": [
      "Train Accuracy: 0.8032128514056225\n",
      "Baseline Accuracy: 0.5943775100401606\n"
     ]
    }
   ],
   "source": [
    "# Try changing c-value (regularization strength) from 1 to 0.1\n",
    "\n",
    "# create algorithm object\n",
    "logit6 = LogisticRegression(C=0.1, random_state=123, intercept_scaling=1, solver='lbfgs')\n",
    "\n",
    "# fit model with all features\n",
    "logit6.fit(X_train, y_train)\n",
    "\n",
    "# compute accuracy\n",
    "train_acc6 = logit6.score(X_train, y_train)\n",
    "\n",
    "# compare this model with baseline\n",
    "print(f'Train Accuracy: {train_acc6}')\n",
    "print(f'Baseline Accuracy: {baseline_accuracy}')"
   ]
  },
  {
   "cell_type": "markdown",
   "metadata": {},
   "source": [
    "My 3 best models are currently: logit3, logit5, logit6"
   ]
  },
  {
   "cell_type": "markdown",
   "metadata": {},
   "source": [
    "<div class=\"alert alert-block alert-success\">\n",
    "\n",
    "4. Use you best 3 models to predict and evaluate on your validate sample."
   ]
  },
  {
   "cell_type": "code",
   "execution_count": 15,
   "metadata": {},
   "outputs": [
    {
     "data": {
      "text/html": [
       "<div>\n",
       "<style scoped>\n",
       "    .dataframe tbody tr th:only-of-type {\n",
       "        vertical-align: middle;\n",
       "    }\n",
       "\n",
       "    .dataframe tbody tr th {\n",
       "        vertical-align: top;\n",
       "    }\n",
       "\n",
       "    .dataframe thead th {\n",
       "        text-align: right;\n",
       "    }\n",
       "</style>\n",
       "<table border=\"1\" class=\"dataframe\">\n",
       "  <thead>\n",
       "    <tr style=\"text-align: right;\">\n",
       "      <th></th>\n",
       "      <th>model</th>\n",
       "      <th>in-sample accuracy</th>\n",
       "      <th>out-of-sample accuracy</th>\n",
       "    </tr>\n",
       "  </thead>\n",
       "  <tbody>\n",
       "    <tr>\n",
       "      <th>0</th>\n",
       "      <td>3</td>\n",
       "      <td>0.791165</td>\n",
       "      <td>0.803738</td>\n",
       "    </tr>\n",
       "    <tr>\n",
       "      <th>1</th>\n",
       "      <td>5</td>\n",
       "      <td>0.799197</td>\n",
       "      <td>0.785047</td>\n",
       "    </tr>\n",
       "    <tr>\n",
       "      <th>2</th>\n",
       "      <td>6</td>\n",
       "      <td>0.803213</td>\n",
       "      <td>0.794393</td>\n",
       "    </tr>\n",
       "  </tbody>\n",
       "</table>\n",
       "</div>"
      ],
      "text/plain": [
       "   model  in-sample accuracy  out-of-sample accuracy\n",
       "0      3            0.791165                0.803738\n",
       "1      5            0.799197                0.785047\n",
       "2      6            0.803213                0.794393"
      ]
     },
     "execution_count": 15,
     "metadata": {},
     "output_type": "execute_result"
    }
   ],
   "source": [
    "# use logit# to make predictions for the X_validate observations\n",
    "y_val_pred3 = logit3.predict(X_val)\n",
    "# compute accuracy\n",
    "val_acc3 = logit3.score(X_val, y_val)\n",
    "# create a list and add to a dataframe at the end comparing all the models. \n",
    "model3 = [3, train_acc4, val_acc3]\n",
    "\n",
    "y_val_pred5 = logit5.predict(X_val)\n",
    "val_acc5 = logit5.score(X_val, y_val) \n",
    "model5 = [5, train_acc5, val_acc5]\n",
    "\n",
    "y_val_pred6 = logit6.predict(X_val)\n",
    "val_acc6 = logit6.score(X_val, y_val) \n",
    "model6 = [6, train_acc6, val_acc6]\n",
    "\n",
    "pd.DataFrame([model3, model5, model6], columns=['model', 'in-sample accuracy', 'out-of-sample accuracy'])"
   ]
  },
  {
   "cell_type": "markdown",
   "metadata": {},
   "source": [
    "Close between Model 3 and Model 6 - use Model 6 for next question"
   ]
  },
  {
   "cell_type": "markdown",
   "metadata": {},
   "source": [
    "<div class=\"alert alert-block alert-success\">\n",
    "\n",
    "5. Choose your best model from the validation performation, and evaluate it on the test dataset. How do the performance metrics compare to validate? to train?"
   ]
  },
  {
   "cell_type": "code",
   "execution_count": 16,
   "metadata": {},
   "outputs": [
    {
     "name": "stdout",
     "output_type": "stream",
     "text": [
      "Coefficient: \n",
      " [[-0.62625505 -1.23437875 -0.02221037 -0.13097001 -0.11431645  0.00636409\n",
      "   0.12663798 -0.39492829]]\n",
      "Intercept: \n",
      " [2.53392906]\n"
     ]
    }
   ],
   "source": [
    "print('Coefficient: \\n', logit6.coef_)\n",
    "print('Intercept: \\n', logit6.intercept_)"
   ]
  },
  {
   "cell_type": "code",
   "execution_count": 17,
   "metadata": {},
   "outputs": [
    {
     "name": "stdout",
     "output_type": "stream",
     "text": [
      "Model 6: solver = lbfgs, c = 1\n",
      "Accuracy: 0.79\n",
      "[[56  8]\n",
      " [14 29]]\n",
      "              precision    recall  f1-score   support\n",
      "\n",
      "           0       0.80      0.88      0.84        64\n",
      "           1       0.78      0.67      0.72        43\n",
      "\n",
      "    accuracy                           0.79       107\n",
      "   macro avg       0.79      0.77      0.78       107\n",
      "weighted avg       0.79      0.79      0.79       107\n",
      "\n"
     ]
    }
   ],
   "source": [
    "# Validate model 6\n",
    "\n",
    "y_pred6 = logit6.predict(X_val)\n",
    "print(\"Model 6: solver = lbfgs, c = 1\")\n",
    "# accuracy of model 6\n",
    "print('Accuracy: {:.2f}'.format(logit6.score(X_val, y_val)))\n",
    "# confusion matrix of model 6\n",
    "print(confusion_matrix(y_val, y_pred6))\n",
    "# classification report of model 1\n",
    "print(classification_report(y_val, y_pred6))"
   ]
  },
  {
   "cell_type": "code",
   "execution_count": 18,
   "metadata": {},
   "outputs": [
    {
     "name": "stdout",
     "output_type": "stream",
     "text": [
      "Model 6: solver = lbfgs, c = 1\n",
      "Accuracy: 0.78\n",
      "[[184  28]\n",
      " [ 51  93]]\n",
      "              precision    recall  f1-score   support\n",
      "\n",
      "           0       0.78      0.87      0.82       212\n",
      "           1       0.77      0.65      0.70       144\n",
      "\n",
      "    accuracy                           0.78       356\n",
      "   macro avg       0.78      0.76      0.76       356\n",
      "weighted avg       0.78      0.78      0.77       356\n",
      "\n"
     ]
    }
   ],
   "source": [
    "# Test Model 6\n",
    "\n",
    "y_pred6 = logit6.predict(X_test)\n",
    "y_pred_proba = logit6.predict_proba(X_test)\n",
    "print(\"Model 6: solver = lbfgs, c = 1\")\n",
    "print('Accuracy: {:.2f}'.format(logit6.score(X_test, y_test)))\n",
    "print(confusion_matrix(y_test, y_pred6))\n",
    "print(classification_report(y_test, y_pred6))"
   ]
  }
 ],
 "metadata": {
  "kernelspec": {
   "display_name": "base",
   "language": "python",
   "name": "python3"
  },
  "language_info": {
   "codemirror_mode": {
    "name": "ipython",
    "version": 3
   },
   "file_extension": ".py",
   "mimetype": "text/x-python",
   "name": "python",
   "nbconvert_exporter": "python",
   "pygments_lexer": "ipython3",
   "version": "3.10.12"
  },
  "orig_nbformat": 4
 },
 "nbformat": 4,
 "nbformat_minor": 2
}
