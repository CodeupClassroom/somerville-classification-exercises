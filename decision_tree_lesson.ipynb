{
 "cells": [
  {
   "cell_type": "code",
   "execution_count": 1,
   "id": "9aa5aae8",
   "metadata": {},
   "outputs": [
    {
     "data": {
      "application/javascript": [
       "IPython.notebook.set_autosave_interval(0)"
      ]
     },
     "metadata": {},
     "output_type": "display_data"
    },
    {
     "name": "stdout",
     "output_type": "stream",
     "text": [
      "Autosave disabled\n"
     ]
    }
   ],
   "source": [
    "%autosave 0"
   ]
  },
  {
   "cell_type": "code",
   "execution_count": 2,
   "id": "0d754604",
   "metadata": {},
   "outputs": [],
   "source": [
    "import pandas as pd\n",
    "\n",
    "from sklearn.tree import DecisionTreeClassifier\n",
    "from sklearn.metrics import classification_report\n",
    "from adam_prepare import titanic_pipeline"
   ]
  },
  {
   "cell_type": "markdown",
   "id": "ee807330",
   "metadata": {},
   "source": [
    "Let's read in our data using the titanic_pipeline function!"
   ]
  },
  {
   "cell_type": "code",
   "execution_count": 3,
   "id": "562a89d3",
   "metadata": {},
   "outputs": [],
   "source": [
    "train, val, test = titanic_pipeline()"
   ]
  },
  {
   "cell_type": "markdown",
   "id": "2482f494",
   "metadata": {},
   "source": [
    "Let's take a peek at train. Some of my values are strings. Can (most) machine learning models handle strings?"
   ]
  },
  {
   "cell_type": "code",
   "execution_count": 4,
   "id": "caae0513",
   "metadata": {},
   "outputs": [
    {
     "data": {
      "text/html": [
       "<div>\n",
       "<style scoped>\n",
       "    .dataframe tbody tr th:only-of-type {\n",
       "        vertical-align: middle;\n",
       "    }\n",
       "\n",
       "    .dataframe tbody tr th {\n",
       "        vertical-align: top;\n",
       "    }\n",
       "\n",
       "    .dataframe thead th {\n",
       "        text-align: right;\n",
       "    }\n",
       "</style>\n",
       "<table border=\"1\" class=\"dataframe\">\n",
       "  <thead>\n",
       "    <tr style=\"text-align: right;\">\n",
       "      <th></th>\n",
       "      <th>survived</th>\n",
       "      <th>sex</th>\n",
       "      <th>age</th>\n",
       "      <th>sibsp</th>\n",
       "      <th>parch</th>\n",
       "      <th>fare</th>\n",
       "      <th>class</th>\n",
       "      <th>embark_town</th>\n",
       "      <th>alone</th>\n",
       "    </tr>\n",
       "  </thead>\n",
       "  <tbody>\n",
       "    <tr>\n",
       "      <th>748</th>\n",
       "      <td>0</td>\n",
       "      <td>male</td>\n",
       "      <td>19.0</td>\n",
       "      <td>1</td>\n",
       "      <td>0</td>\n",
       "      <td>53.1000</td>\n",
       "      <td>First</td>\n",
       "      <td>Southampton</td>\n",
       "      <td>0</td>\n",
       "    </tr>\n",
       "    <tr>\n",
       "      <th>45</th>\n",
       "      <td>0</td>\n",
       "      <td>male</td>\n",
       "      <td>29.0</td>\n",
       "      <td>0</td>\n",
       "      <td>0</td>\n",
       "      <td>8.0500</td>\n",
       "      <td>Third</td>\n",
       "      <td>Southampton</td>\n",
       "      <td>1</td>\n",
       "    </tr>\n",
       "    <tr>\n",
       "      <th>28</th>\n",
       "      <td>1</td>\n",
       "      <td>female</td>\n",
       "      <td>29.0</td>\n",
       "      <td>0</td>\n",
       "      <td>0</td>\n",
       "      <td>7.8792</td>\n",
       "      <td>Third</td>\n",
       "      <td>Queenstown</td>\n",
       "      <td>1</td>\n",
       "    </tr>\n",
       "    <tr>\n",
       "      <th>633</th>\n",
       "      <td>0</td>\n",
       "      <td>male</td>\n",
       "      <td>29.0</td>\n",
       "      <td>0</td>\n",
       "      <td>0</td>\n",
       "      <td>0.0000</td>\n",
       "      <td>First</td>\n",
       "      <td>Southampton</td>\n",
       "      <td>1</td>\n",
       "    </tr>\n",
       "    <tr>\n",
       "      <th>403</th>\n",
       "      <td>0</td>\n",
       "      <td>male</td>\n",
       "      <td>28.0</td>\n",
       "      <td>1</td>\n",
       "      <td>0</td>\n",
       "      <td>15.8500</td>\n",
       "      <td>Third</td>\n",
       "      <td>Southampton</td>\n",
       "      <td>0</td>\n",
       "    </tr>\n",
       "  </tbody>\n",
       "</table>\n",
       "</div>"
      ],
      "text/plain": [
       "     survived     sex   age  sibsp  parch     fare  class  embark_town  alone\n",
       "748         0    male  19.0      1      0  53.1000  First  Southampton      0\n",
       "45          0    male  29.0      0      0   8.0500  Third  Southampton      1\n",
       "28          1  female  29.0      0      0   7.8792  Third   Queenstown      1\n",
       "633         0    male  29.0      0      0   0.0000  First  Southampton      1\n",
       "403         0    male  28.0      1      0  15.8500  Third  Southampton      0"
      ]
     },
     "execution_count": 4,
     "metadata": {},
     "output_type": "execute_result"
    }
   ],
   "source": [
    "train.head()"
   ]
  },
  {
   "cell_type": "markdown",
   "id": "72d5b057",
   "metadata": {},
   "source": [
    "We need to determine a way to meaningfully encode our string values.\n",
    "\n",
    "We will use [pd.get_dummies](https://pandas.pydata.org/docs/reference/api/pandas.get_dummies.html) to [one-hot encode](https://machinelearningmastery.com/why-one-hot-encode-data-in-machine-learning/) our categorical columns."
   ]
  },
  {
   "cell_type": "code",
   "execution_count": null,
   "id": "1812c515",
   "metadata": {},
   "outputs": [],
   "source": []
  },
  {
   "cell_type": "markdown",
   "id": "5c98052e",
   "metadata": {},
   "source": [
    "Let's make sure our three subsets (train, validate, test) all have the same number of columns!"
   ]
  },
  {
   "cell_type": "code",
   "execution_count": null,
   "id": "8adbab3a",
   "metadata": {},
   "outputs": [],
   "source": []
  },
  {
   "cell_type": "markdown",
   "id": "76db2e18",
   "metadata": {},
   "source": [
    "Now that our categorical data is properly encoded, let's make X and y dataframes for model training and evaluation."
   ]
  },
  {
   "cell_type": "code",
   "execution_count": null,
   "id": "df272431",
   "metadata": {},
   "outputs": [],
   "source": []
  },
  {
   "cell_type": "markdown",
   "id": "3c640d5b",
   "metadata": {},
   "source": [
    "We should define a baseline before we get started! Our baseline will be the most likely outcome from the y_train series."
   ]
  },
  {
   "cell_type": "code",
   "execution_count": null,
   "id": "d9b14ae8",
   "metadata": {},
   "outputs": [],
   "source": []
  },
  {
   "cell_type": "markdown",
   "id": "6cf9973c",
   "metadata": {},
   "source": [
    "We're ready to model! Let's create an instance of a [DecisionTreeClassifier](https://scikit-learn.org/stable/modules/generated/sklearn.tree.DecisionTreeClassifier.html) and fit it to our train dataset."
   ]
  },
  {
   "cell_type": "code",
   "execution_count": null,
   "id": "ce97aa95",
   "metadata": {},
   "outputs": [],
   "source": []
  },
  {
   "cell_type": "markdown",
   "id": "8a95c48a",
   "metadata": {},
   "source": [
    "Let's check out the .feature_importances_ attribute."
   ]
  },
  {
   "cell_type": "code",
   "execution_count": null,
   "id": "c3874ed6",
   "metadata": {},
   "outputs": [],
   "source": []
  },
  {
   "cell_type": "markdown",
   "id": "50364bec",
   "metadata": {},
   "source": [
    "Let's make some predictions with the .predict() method and save them to a variable."
   ]
  },
  {
   "cell_type": "code",
   "execution_count": null,
   "id": "cf82ced8",
   "metadata": {},
   "outputs": [],
   "source": []
  },
  {
   "cell_type": "markdown",
   "id": "60726365",
   "metadata": {},
   "source": [
    "Let's evaluate the accuracy of our model with the .score() method."
   ]
  },
  {
   "cell_type": "code",
   "execution_count": null,
   "id": "fe1fae9f",
   "metadata": {},
   "outputs": [],
   "source": []
  },
  {
   "cell_type": "markdown",
   "id": "f88750ef",
   "metadata": {},
   "source": [
    "We can use the classification_report function to return a whole host of metrics about our model!"
   ]
  },
  {
   "cell_type": "code",
   "execution_count": null,
   "id": "15f9108a",
   "metadata": {},
   "outputs": [],
   "source": []
  },
  {
   "cell_type": "markdown",
   "id": "953b65a9",
   "metadata": {},
   "source": [
    "Wow! My model is incredible! I'm sure it will be equally awesome on the validate dataset!"
   ]
  },
  {
   "cell_type": "code",
   "execution_count": null,
   "id": "0aac1af1",
   "metadata": {},
   "outputs": [],
   "source": []
  },
  {
   "cell_type": "markdown",
   "id": "8177e4ca",
   "metadata": {},
   "source": [
    "What does it mean to be overfit?"
   ]
  },
  {
   "cell_type": "code",
   "execution_count": null,
   "id": "29f266a1",
   "metadata": {},
   "outputs": [],
   "source": []
  }
 ],
 "metadata": {
  "kernelspec": {
   "display_name": "Python 3 (ipykernel)",
   "language": "python",
   "name": "python3"
  },
  "language_info": {
   "codemirror_mode": {
    "name": "ipython",
    "version": 3
   },
   "file_extension": ".py",
   "mimetype": "text/x-python",
   "name": "python",
   "nbconvert_exporter": "python",
   "pygments_lexer": "ipython3",
   "version": "3.9.17"
  }
 },
 "nbformat": 4,
 "nbformat_minor": 5
}
