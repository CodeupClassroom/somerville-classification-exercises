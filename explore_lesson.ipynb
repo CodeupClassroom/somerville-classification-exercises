{
 "cells": [
  {
   "cell_type": "code",
   "execution_count": 1,
   "id": "140bbe3b",
   "metadata": {},
   "outputs": [
    {
     "data": {
      "application/javascript": [
       "IPython.notebook.set_autosave_interval(0)"
      ]
     },
     "metadata": {},
     "output_type": "display_data"
    },
    {
     "name": "stdout",
     "output_type": "stream",
     "text": [
      "Autosave disabled\n"
     ]
    }
   ],
   "source": [
    "%autosave 0"
   ]
  },
  {
   "cell_type": "code",
   "execution_count": 2,
   "id": "bd6694f4",
   "metadata": {},
   "outputs": [],
   "source": [
    "import pandas as pd\n",
    "import matplotlib.pyplot as plt\n",
    "import seaborn as sns\n",
    "\n",
    "from scipy import stats\n",
    "from adam_prepare import titanic_pipeline"
   ]
  },
  {
   "cell_type": "code",
   "execution_count": 3,
   "id": "cd926d74",
   "metadata": {},
   "outputs": [
    {
     "data": {
      "text/plain": [
       "((623, 10), (134, 10), (134, 10))"
      ]
     },
     "execution_count": 3,
     "metadata": {},
     "output_type": "execute_result"
    }
   ],
   "source": [
    "train, val, test = titanic_pipeline()\n",
    "train.shape, val.shape, test.shape"
   ]
  },
  {
   "cell_type": "code",
   "execution_count": 4,
   "id": "15de3212",
   "metadata": {},
   "outputs": [
    {
     "data": {
      "text/html": [
       "<div>\n",
       "<style scoped>\n",
       "    .dataframe tbody tr th:only-of-type {\n",
       "        vertical-align: middle;\n",
       "    }\n",
       "\n",
       "    .dataframe tbody tr th {\n",
       "        vertical-align: top;\n",
       "    }\n",
       "\n",
       "    .dataframe thead th {\n",
       "        text-align: right;\n",
       "    }\n",
       "</style>\n",
       "<table border=\"1\" class=\"dataframe\">\n",
       "  <thead>\n",
       "    <tr style=\"text-align: right;\">\n",
       "      <th></th>\n",
       "      <th>survived</th>\n",
       "      <th>sex</th>\n",
       "      <th>age</th>\n",
       "      <th>sibsp</th>\n",
       "      <th>parch</th>\n",
       "      <th>fare</th>\n",
       "      <th>class</th>\n",
       "      <th>deck</th>\n",
       "      <th>embark_town</th>\n",
       "      <th>alone</th>\n",
       "    </tr>\n",
       "  </thead>\n",
       "  <tbody>\n",
       "    <tr>\n",
       "      <th>748</th>\n",
       "      <td>0</td>\n",
       "      <td>male</td>\n",
       "      <td>19.0</td>\n",
       "      <td>1</td>\n",
       "      <td>0</td>\n",
       "      <td>53.1000</td>\n",
       "      <td>First</td>\n",
       "      <td>D</td>\n",
       "      <td>Southampton</td>\n",
       "      <td>0</td>\n",
       "    </tr>\n",
       "    <tr>\n",
       "      <th>45</th>\n",
       "      <td>0</td>\n",
       "      <td>male</td>\n",
       "      <td>29.0</td>\n",
       "      <td>0</td>\n",
       "      <td>0</td>\n",
       "      <td>8.0500</td>\n",
       "      <td>Third</td>\n",
       "      <td>NaN</td>\n",
       "      <td>Southampton</td>\n",
       "      <td>1</td>\n",
       "    </tr>\n",
       "    <tr>\n",
       "      <th>28</th>\n",
       "      <td>1</td>\n",
       "      <td>female</td>\n",
       "      <td>29.0</td>\n",
       "      <td>0</td>\n",
       "      <td>0</td>\n",
       "      <td>7.8792</td>\n",
       "      <td>Third</td>\n",
       "      <td>NaN</td>\n",
       "      <td>Queenstown</td>\n",
       "      <td>1</td>\n",
       "    </tr>\n",
       "    <tr>\n",
       "      <th>633</th>\n",
       "      <td>0</td>\n",
       "      <td>male</td>\n",
       "      <td>29.0</td>\n",
       "      <td>0</td>\n",
       "      <td>0</td>\n",
       "      <td>0.0000</td>\n",
       "      <td>First</td>\n",
       "      <td>NaN</td>\n",
       "      <td>Southampton</td>\n",
       "      <td>1</td>\n",
       "    </tr>\n",
       "    <tr>\n",
       "      <th>403</th>\n",
       "      <td>0</td>\n",
       "      <td>male</td>\n",
       "      <td>28.0</td>\n",
       "      <td>1</td>\n",
       "      <td>0</td>\n",
       "      <td>15.8500</td>\n",
       "      <td>Third</td>\n",
       "      <td>NaN</td>\n",
       "      <td>Southampton</td>\n",
       "      <td>0</td>\n",
       "    </tr>\n",
       "  </tbody>\n",
       "</table>\n",
       "</div>"
      ],
      "text/plain": [
       "     survived     sex   age  sibsp  parch     fare  class deck  embark_town  \\\n",
       "748         0    male  19.0      1      0  53.1000  First    D  Southampton   \n",
       "45          0    male  29.0      0      0   8.0500  Third  NaN  Southampton   \n",
       "28          1  female  29.0      0      0   7.8792  Third  NaN   Queenstown   \n",
       "633         0    male  29.0      0      0   0.0000  First  NaN  Southampton   \n",
       "403         0    male  28.0      1      0  15.8500  Third  NaN  Southampton   \n",
       "\n",
       "     alone  \n",
       "748      0  \n",
       "45       1  \n",
       "28       1  \n",
       "633      1  \n",
       "403      0  "
      ]
     },
     "execution_count": 4,
     "metadata": {},
     "output_type": "execute_result"
    }
   ],
   "source": [
    "train.head()"
   ]
  },
  {
   "cell_type": "markdown",
   "id": "b72a678d",
   "metadata": {},
   "source": [
    "## Does age affect survival?"
   ]
  },
  {
   "cell_type": "markdown",
   "id": "062fe4ec",
   "metadata": {},
   "source": [
    "Null hypothesis: Age does NOT affect survival.\n",
    "\n",
    "Alternative hypothesis: Age DOES affect survival."
   ]
  },
  {
   "cell_type": "code",
   "execution_count": 5,
   "id": "3f9d6564",
   "metadata": {},
   "outputs": [
    {
     "data": {
      "image/png": "[encoded data removed]",
      "text/plain": [
       "<Figure size 640x480 with 1 Axes>"
      ]
     },
     "metadata": {},
     "output_type": "display_data"
    }
   ],
   "source": [
    "sns.histplot(data = train, x = 'age', hue = 'survived')\n",
    "plt.show()"
   ]
  },
  {
   "cell_type": "markdown",
   "id": "29bd5318",
   "metadata": {},
   "source": [
    "Let's run a two-tailed, two-sample (independent) t-test!"
   ]
  },
  {
   "cell_type": "code",
   "execution_count": 6,
   "id": "1f0318ae",
   "metadata": {},
   "outputs": [
    {
     "data": {
      "text/plain": [
       "748    19.0\n",
       "45     29.0\n",
       "633    29.0\n",
       "403    28.0\n",
       "695    52.0\n",
       "       ... \n",
       "544    50.0\n",
       "680    29.0\n",
       "476    34.0\n",
       "736    48.0\n",
       "462    47.0\n",
       "Name: age, Length: 384, dtype: float64"
      ]
     },
     "execution_count": 6,
     "metadata": {},
     "output_type": "execute_result"
    }
   ],
   "source": [
    "train[train.survived == 0].age"
   ]
  },
  {
   "cell_type": "code",
   "execution_count": 7,
   "id": "39af88b8",
   "metadata": {},
   "outputs": [
    {
     "data": {
      "text/plain": [
       "(2.3909581216339655, 0.017101259242307446)"
      ]
     },
     "execution_count": 7,
     "metadata": {},
     "output_type": "execute_result"
    }
   ],
   "source": [
    "t_age, p_age = stats.ttest_ind(train[train.survived == 0].age, train[train.survived == 1].age)\n",
    "t_age, p_age"
   ]
  },
  {
   "cell_type": "code",
   "execution_count": 8,
   "id": "f67bb99a",
   "metadata": {},
   "outputs": [],
   "source": [
    "def eval_p(p, alpha = 0.05):\n",
    "    \n",
    "    if p < alpha:\n",
    "        \n",
    "        print(f'The result is significant! We reject the null hypothesis with a p-value of {round(p, 2)}.')\n",
    "        \n",
    "    else:\n",
    "        \n",
    "        print(f'We fail to reject the null hypothesis with a p-value of {round(p, 2)}.')"
   ]
  },
  {
   "cell_type": "code",
   "execution_count": 9,
   "id": "db57b9d9",
   "metadata": {},
   "outputs": [
    {
     "name": "stdout",
     "output_type": "stream",
     "text": [
      "The result is significant! We reject the null hypothesis with a p-value of 0.02.\n"
     ]
    }
   ],
   "source": [
    "eval_p(p_age)"
   ]
  },
  {
   "cell_type": "markdown",
   "id": "119dc518",
   "metadata": {},
   "source": [
    "It appears that age does affect the outcome! Looking at the chart, kids age 5 and younger had a great chance to survive the sinking of the Titanic. It looks like at least half the saying \"women and children first\" came true."
   ]
  },
  {
   "cell_type": "code",
   "execution_count": 10,
   "id": "ea2062ba",
   "metadata": {},
   "outputs": [
    {
     "data": {
      "text/html": [
       "<div>\n",
       "<style scoped>\n",
       "    .dataframe tbody tr th:only-of-type {\n",
       "        vertical-align: middle;\n",
       "    }\n",
       "\n",
       "    .dataframe tbody tr th {\n",
       "        vertical-align: top;\n",
       "    }\n",
       "\n",
       "    .dataframe thead th {\n",
       "        text-align: right;\n",
       "    }\n",
       "</style>\n",
       "<table border=\"1\" class=\"dataframe\">\n",
       "  <thead>\n",
       "    <tr style=\"text-align: right;\">\n",
       "      <th></th>\n",
       "      <th>survived</th>\n",
       "      <th>sex</th>\n",
       "      <th>age</th>\n",
       "      <th>sibsp</th>\n",
       "      <th>parch</th>\n",
       "      <th>fare</th>\n",
       "      <th>class</th>\n",
       "      <th>deck</th>\n",
       "      <th>embark_town</th>\n",
       "      <th>alone</th>\n",
       "    </tr>\n",
       "  </thead>\n",
       "  <tbody>\n",
       "    <tr>\n",
       "      <th>748</th>\n",
       "      <td>0</td>\n",
       "      <td>male</td>\n",
       "      <td>19.0</td>\n",
       "      <td>1</td>\n",
       "      <td>0</td>\n",
       "      <td>53.1000</td>\n",
       "      <td>First</td>\n",
       "      <td>D</td>\n",
       "      <td>Southampton</td>\n",
       "      <td>0</td>\n",
       "    </tr>\n",
       "    <tr>\n",
       "      <th>45</th>\n",
       "      <td>0</td>\n",
       "      <td>male</td>\n",
       "      <td>29.0</td>\n",
       "      <td>0</td>\n",
       "      <td>0</td>\n",
       "      <td>8.0500</td>\n",
       "      <td>Third</td>\n",
       "      <td>NaN</td>\n",
       "      <td>Southampton</td>\n",
       "      <td>1</td>\n",
       "    </tr>\n",
       "    <tr>\n",
       "      <th>28</th>\n",
       "      <td>1</td>\n",
       "      <td>female</td>\n",
       "      <td>29.0</td>\n",
       "      <td>0</td>\n",
       "      <td>0</td>\n",
       "      <td>7.8792</td>\n",
       "      <td>Third</td>\n",
       "      <td>NaN</td>\n",
       "      <td>Queenstown</td>\n",
       "      <td>1</td>\n",
       "    </tr>\n",
       "    <tr>\n",
       "      <th>633</th>\n",
       "      <td>0</td>\n",
       "      <td>male</td>\n",
       "      <td>29.0</td>\n",
       "      <td>0</td>\n",
       "      <td>0</td>\n",
       "      <td>0.0000</td>\n",
       "      <td>First</td>\n",
       "      <td>NaN</td>\n",
       "      <td>Southampton</td>\n",
       "      <td>1</td>\n",
       "    </tr>\n",
       "    <tr>\n",
       "      <th>403</th>\n",
       "      <td>0</td>\n",
       "      <td>male</td>\n",
       "      <td>28.0</td>\n",
       "      <td>1</td>\n",
       "      <td>0</td>\n",
       "      <td>15.8500</td>\n",
       "      <td>Third</td>\n",
       "      <td>NaN</td>\n",
       "      <td>Southampton</td>\n",
       "      <td>0</td>\n",
       "    </tr>\n",
       "  </tbody>\n",
       "</table>\n",
       "</div>"
      ],
      "text/plain": [
       "     survived     sex   age  sibsp  parch     fare  class deck  embark_town  \\\n",
       "748         0    male  19.0      1      0  53.1000  First    D  Southampton   \n",
       "45          0    male  29.0      0      0   8.0500  Third  NaN  Southampton   \n",
       "28          1  female  29.0      0      0   7.8792  Third  NaN   Queenstown   \n",
       "633         0    male  29.0      0      0   0.0000  First  NaN  Southampton   \n",
       "403         0    male  28.0      1      0  15.8500  Third  NaN  Southampton   \n",
       "\n",
       "     alone  \n",
       "748      0  \n",
       "45       1  \n",
       "28       1  \n",
       "633      1  \n",
       "403      0  "
      ]
     },
     "execution_count": 10,
     "metadata": {},
     "output_type": "execute_result"
    }
   ],
   "source": [
    "train.head()"
   ]
  },
  {
   "cell_type": "markdown",
   "id": "5b624592",
   "metadata": {},
   "source": [
    "## Did the sex of the passenger affect their chance of survival?"
   ]
  },
  {
   "cell_type": "markdown",
   "id": "5c77edb6",
   "metadata": {},
   "source": [
    "Null hypothesis: the sex of the passenger has no relation to their chance of survival.\n",
    "\n",
    "Alternative hypothesis: the sex of the passenger is related to their chance of survival."
   ]
  },
  {
   "cell_type": "code",
   "execution_count": 11,
   "id": "189b45b8",
   "metadata": {},
   "outputs": [
    {
     "data": {
      "image/png": "[encoded data removed]",
      "text/plain": [
       "<Figure size 640x480 with 1 Axes>"
      ]
     },
     "metadata": {},
     "output_type": "display_data"
    }
   ],
   "source": [
    "sns.countplot(data = train, x = 'sex', hue = 'survived')\n",
    "plt.show()"
   ]
  },
  {
   "cell_type": "markdown",
   "id": "106db5f2",
   "metadata": {},
   "source": [
    "We will run a chi-squared test for group membership."
   ]
  },
  {
   "cell_type": "code",
   "execution_count": 12,
   "id": "529bc744",
   "metadata": {},
   "outputs": [
    {
     "data": {
      "text/html": [
       "<div>\n",
       "<style scoped>\n",
       "    .dataframe tbody tr th:only-of-type {\n",
       "        vertical-align: middle;\n",
       "    }\n",
       "\n",
       "    .dataframe tbody tr th {\n",
       "        vertical-align: top;\n",
       "    }\n",
       "\n",
       "    .dataframe thead th {\n",
       "        text-align: right;\n",
       "    }\n",
       "</style>\n",
       "<table border=\"1\" class=\"dataframe\">\n",
       "  <thead>\n",
       "    <tr style=\"text-align: right;\">\n",
       "      <th>survived</th>\n",
       "      <th>0</th>\n",
       "      <th>1</th>\n",
       "    </tr>\n",
       "    <tr>\n",
       "      <th>sex</th>\n",
       "      <th></th>\n",
       "      <th></th>\n",
       "    </tr>\n",
       "  </thead>\n",
       "  <tbody>\n",
       "    <tr>\n",
       "      <th>female</th>\n",
       "      <td>54</td>\n",
       "      <td>163</td>\n",
       "    </tr>\n",
       "    <tr>\n",
       "      <th>male</th>\n",
       "      <td>330</td>\n",
       "      <td>76</td>\n",
       "    </tr>\n",
       "  </tbody>\n",
       "</table>\n",
       "</div>"
      ],
      "text/plain": [
       "survived    0    1\n",
       "sex               \n",
       "female     54  163\n",
       "male      330   76"
      ]
     },
     "execution_count": 12,
     "metadata": {},
     "output_type": "execute_result"
    }
   ],
   "source": [
    "ss_ct = pd.crosstab(train.sex, train.survived)\n",
    "ss_ct"
   ]
  },
  {
   "cell_type": "code",
   "execution_count": 13,
   "id": "a3e3fa76",
   "metadata": {},
   "outputs": [
    {
     "name": "stdout",
     "output_type": "stream",
     "text": [
      "The result is significant! We reject the null hypothesis with a p-value of 0.0.\n"
     ]
    }
   ],
   "source": [
    "chi2, p_ss, degf, exp = stats.chi2_contingency(ss_ct)\n",
    "eval_p(p_ss)"
   ]
  },
  {
   "cell_type": "markdown",
   "id": "da1473ea",
   "metadata": {},
   "source": [
    "We conclude that there is a significant relationship between sex and survival! Looking at our countplot, we see that females had a much higher rate of survival. The other half of \"women and children first\" was true for the Titanic."
   ]
  },
  {
   "cell_type": "markdown",
   "id": "56f2c940",
   "metadata": {},
   "source": [
    "## Exploration summary\n",
    "\n",
    "- I discovered that age affected survival! Children 5 and younger appeared to survive at higher rates than the rest of the passengers.\n",
    "- I discovered that sex affected survival! The female passengers survived at a much higher rate than the male passengers. Female passengers had a ~75% survival rate and male passengers had a ~20% survival rate."
   ]
  }
 ],
 "metadata": {
  "kernelspec": {
   "display_name": "Python 3 (ipykernel)",
   "language": "python",
   "name": "python3"
  },
  "language_info": {
   "codemirror_mode": {
    "name": "ipython",
    "version": 3
   },
   "file_extension": ".py",
   "mimetype": "text/x-python",
   "name": "python",
   "nbconvert_exporter": "python",
   "pygments_lexer": "ipython3",
   "version": "3.9.17"
  }
 },
 "nbformat": 4,
 "nbformat_minor": 5
}
