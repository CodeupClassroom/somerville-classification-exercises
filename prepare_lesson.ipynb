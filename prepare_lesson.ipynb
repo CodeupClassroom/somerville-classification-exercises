{
 "cells": [
  {
   "cell_type": "code",
   "execution_count": 1,
   "id": "05b05249",
   "metadata": {},
   "outputs": [
    {
     "data": {
      "application/javascript": [
       "IPython.notebook.set_autosave_interval(0)"
      ]
     },
     "metadata": {},
     "output_type": "display_data"
    },
    {
     "name": "stdout",
     "output_type": "stream",
     "text": [
      "Autosave disabled\n"
     ]
    }
   ],
   "source": [
    "%autosave 0"
   ]
  },
  {
   "cell_type": "code",
   "execution_count": 2,
   "id": "8505bff8",
   "metadata": {},
   "outputs": [],
   "source": [
    "import pandas as pd\n",
    "import matplotlib.pyplot as plt\n",
    "\n",
    "from sklearn.model_selection import train_test_split\n",
    "from sklearn.impute import SimpleImputer\n",
    "from acquire import get_titanic"
   ]
  },
  {
   "cell_type": "markdown",
   "id": "664b25d5",
   "metadata": {},
   "source": [
    "Let's summarize our dataframe with some familiar methods and attributes including:\n",
    "- .head()\n",
    "- .shape\n",
    "- .describe()"
   ]
  },
  {
   "cell_type": "code",
   "execution_count": null,
   "id": "f12a9128",
   "metadata": {},
   "outputs": [],
   "source": []
  },
  {
   "cell_type": "markdown",
   "id": "159f9c3a",
   "metadata": {},
   "source": [
    "Let's take a look at each column in isolation. We are allowed to do this before splitting our data!"
   ]
  },
  {
   "cell_type": "code",
   "execution_count": null,
   "id": "4f28970e",
   "metadata": {},
   "outputs": [],
   "source": []
  },
  {
   "cell_type": "markdown",
   "id": "260840bd",
   "metadata": {},
   "source": [
    "Let's count how many null values are present in each column."
   ]
  },
  {
   "cell_type": "code",
   "execution_count": null,
   "id": "304b4ce4",
   "metadata": {},
   "outputs": [],
   "source": []
  },
  {
   "cell_type": "markdown",
   "id": "4bba083e",
   "metadata": {},
   "source": [
    "What to keep and what to drop after initial summarization."
   ]
  },
  {
   "cell_type": "code",
   "execution_count": null,
   "id": "46b383eb",
   "metadata": {},
   "outputs": [],
   "source": []
  },
  {
   "cell_type": "markdown",
   "id": "f93c343a",
   "metadata": {},
   "source": [
    "Let's split our data into train, validate, and test subsets before determining how to impute for null values. Otherwise this would be considered data leakage!"
   ]
  },
  {
   "cell_type": "code",
   "execution_count": null,
   "id": "2e424cdd",
   "metadata": {},
   "outputs": [],
   "source": []
  },
  {
   "cell_type": "markdown",
   "id": "7baea826",
   "metadata": {},
   "source": [
    "Now that we have split our data, let's figure out how to deal with those pesky null values."
   ]
  },
  {
   "cell_type": "code",
   "execution_count": null,
   "id": "0dde70ef",
   "metadata": {},
   "outputs": [],
   "source": []
  },
  {
   "cell_type": "markdown",
   "id": "bca0abed",
   "metadata": {},
   "source": [
    "We can also use the SimpleImputer object instead of manual imputation. Both are valid!"
   ]
  },
  {
   "cell_type": "code",
   "execution_count": null,
   "id": "226b466a",
   "metadata": {},
   "outputs": [],
   "source": []
  },
  {
   "cell_type": "markdown",
   "id": "e27486ba",
   "metadata": {},
   "source": [
    "Let's turn our work into functions! We can use a series of functions to quickly acquire and prepare our data!"
   ]
  },
  {
   "cell_type": "code",
   "execution_count": null,
   "id": "da0848a8",
   "metadata": {},
   "outputs": [],
   "source": []
  }
 ],
 "metadata": {
  "kernelspec": {
   "display_name": "Python 3 (ipykernel)",
   "language": "python",
   "name": "python3"
  },
  "language_info": {
   "codemirror_mode": {
    "name": "ipython",
    "version": 3
   },
   "file_extension": ".py",
   "mimetype": "text/x-python",
   "name": "python",
   "nbconvert_exporter": "python",
   "pygments_lexer": "ipython3",
   "version": "3.9.17"
  }
 },
 "nbformat": 4,
 "nbformat_minor": 5
}
